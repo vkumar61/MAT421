{
  "nbformat": 4,
  "nbformat_minor": 0,
  "metadata": {
    "colab": {
      "provenance": [],
      "authorship_tag": "ABX9TyMS/2r/4guWpoAz5pgF94fq",
      "include_colab_link": true
    },
    "kernelspec": {
      "name": "python3",
      "display_name": "Python 3"
    },
    "language_info": {
      "name": "python"
    }
  },
  "cells": [
    {
      "cell_type": "markdown",
      "metadata": {
        "id": "view-in-github",
        "colab_type": "text"
      },
      "source": [
        "<a href=\"https://colab.research.google.com/github/vkumar61/MAT421/blob/main/Module%20A%3A%20Representation%20of%20Numbers.ipynb\" target=\"_parent\"><img src=\"https://colab.research.google.com/assets/colab-badge.svg\" alt=\"Open In Colab\"/></a>"
      ]
    },
    {
      "cell_type": "markdown",
      "source": [
        "## Explanation of Base-N Numbers\n",
        "\n",
        "The concept of Base-N numbers refers to a positional numeral system with a base of $N$. The base represents the number of unique digits or symbols used to express numerical values in that system. Each digit in a Base-N represents a coefficient for a power of $N$. The value of the exponent, for each respective digit, is given by the position of the digit from the right, with \"0\" indexing.  \n",
        "\n",
        "The Base-N number, with k+1 digits, $B_N = d_kd_{k-1}...d_2d_1d_0$ represents:\n",
        "\n",
        "$$ B_N = d_0 \\times N^0 + d_1 \\times N^1 + d_2 \\times N^2 + \\ldots + d_k \\times N^k $$\n",
        "\n",
        "An interesting fact about Base-N numbers is that addition and multiplication with any base is well defined. Common Base-N types include: Binary(Base-2), Decimal(Base-10), and Hexadecimal(Base-16).\n",
        "\n",
        "### Binary\n",
        "\n",
        "Binary, as mentioned above, refers to Base-2 numbers.\n",
        "\n",
        "A Binary (Base-2) number, with \\(k+1\\) digits, $B_2 = d_kd_{k-1}...d_2d_1d_0$, represents:\n",
        "\n",
        "$$ B_2 = d_0 \\times 2^0 + d_1 \\times 2^1 + d_2 \\times 2^2 + \\ldots + d_k \\times 2^k $$\n"
      ],
      "metadata": {
        "id": "r0Qm0DLkvbIS"
      }
    },
    {
      "cell_type": "code",
      "source": [
        "# Function to convert decimal to binary\n",
        "def decimal_to_binary(n):\n",
        "    binary_result = ''\n",
        "    while n > 0:\n",
        "        remainder = n % 2\n",
        "        binary_result = str(remainder) + binary_result\n",
        "        n //= 2\n",
        "    return binary_result if binary_result else '0'\n",
        "\n",
        "# Function to perform binary addition\n",
        "def binary_addition(bin_num1, bin_num2):\n",
        "    max_len = max(len(bin_num1), len(bin_num2))\n",
        "    bin_num1 = bin_num1.zfill(max_len)\n",
        "    bin_num2 = bin_num2.zfill(max_len)\n",
        "\n",
        "    carry = 0\n",
        "    result = ''\n",
        "\n",
        "    for i in range(max_len - 1, -1, -1):\n",
        "        bit_sum = int(bin_num1[i]) + int(bin_num2[i]) + carry\n",
        "        result = str(bit_sum % 2) + result\n",
        "        carry = bit_sum // 2\n",
        "\n",
        "    return '1' + result if carry else result\n",
        "\n",
        "# Function to perform binary multiplication\n",
        "def binary_multiplication(bin_num1, bin_num2):\n",
        "    result = '0'\n",
        "\n",
        "    for i, bit in enumerate(reversed(bin_num2)):\n",
        "        if bit == '1':\n",
        "            shifted = bin_num1 + '0' * i\n",
        "            result = binary_addition(result, shifted)\n",
        "\n",
        "    return result\n",
        "\n",
        "# Given decimal numbers\n",
        "decimal_num1 = 927\n",
        "decimal_num2 = 672\n",
        "\n",
        "# Conversion to binary\n",
        "binary_num1 = decimal_to_binary(decimal_num1)\n",
        "binary_num2 = decimal_to_binary(decimal_num2)\n",
        "\n",
        "# Results in decimal\n",
        "addition_result_decimal = decimal_num1 + decimal_num2\n",
        "multiplication_result_decimal = decimal_num1 * decimal_num2\n",
        "\n",
        "# Results in binary\n",
        "addition_result_binary = binary_addition(binary_num1, binary_num2)\n",
        "multiplication_result_binary = binary_multiplication(binary_num1, binary_num2)\n",
        "\n",
        "# Display results\n",
        "print(f\"Binary of {decimal_num1}: {binary_num1}\")\n",
        "print(f\"Binary of {decimal_num2}: {binary_num2}\")\n",
        "print(f\"Addition in Decimal: {addition_result_decimal}\")\n",
        "print(f\"Multiplication in Decimal: {multiplication_result_decimal}\")\n",
        "print(f\"Addition in Binary: {addition_result_binary}\")\n",
        "print(f\"Multiplication in Binary: {multiplication_result_binary}\")"
      ],
      "metadata": {
        "colab": {
          "base_uri": "https://localhost:8080/"
        },
        "id": "H23jeA3r102C",
        "outputId": "0428a6e2-0a04-4294-8b67-f5a64b7fb8c9"
      },
      "execution_count": 7,
      "outputs": [
        {
          "output_type": "stream",
          "name": "stdout",
          "text": [
            "Binary of 927: 1110011111\n",
            "Binary of 672: 1010100000\n",
            "Addition in Decimal: 1599\n",
            "Multiplication in Decimal: 622944\n",
            "Addition in Binary: 11000111111\n",
            "Multiplication in Binary: 10011000000101100000\n"
          ]
        }
      ]
    },
    {
      "cell_type": "markdown",
      "source": [
        "## Explanation of Floating-Point Numbers\n",
        "\n",
        "Floating-point numbers are a representation of real numbers in computing, allowing for the representation of a wide range of values, including both integers and fractions. The term \"floating-point\" refers to the fact that the decimal (or binary) point can \"float\"; that is, it can support a variable number of digits before and after the decimal point.\n",
        "\n",
        "#### Characteristics of Floating-Point Numbers:\n",
        "\n",
        "1. **Precision:** Floating-point numbers have finite precision, meaning there is a limit to the number of significant digits they can represent. This limitation can lead to round-off errors in calculations.\n",
        "\n",
        "2. **Representation:** In the IEEE 754 standard, a floating-point number is represented as a sign bit, an exponent, and a fractional part (mantissa). This allows the representation of very large or very small numbers.\n",
        "\n",
        "3. **Notation:** Floating-point numbers are often expressed in scientific notation, where a number is represented as a product of a significand (or mantissa) and a power of 2 (exponent).\n",
        "\n",
        "#### Operations with Floating-Point Numbers:\n",
        "\n",
        "Floating-point arithmetic includes addition, subtraction, multiplication, and division. However, due to finite precision, certain operations may result in loss of precision and round-off errors."
      ],
      "metadata": {
        "id": "hygRFjGL12Z3"
      }
    },
    {
      "cell_type": "code",
      "execution_count": 13,
      "metadata": {
        "id": "uH4KhpSfezzB",
        "colab": {
          "base_uri": "https://localhost:8080/"
        },
        "outputId": "754ecd37-73f6-4aec-8850-354a444352cd"
      },
      "outputs": [
        {
          "output_type": "stream",
          "name": "stdout",
          "text": [
            "sys.float_info(max=1.7976931348623157e+308, max_exp=1024, max_10_exp=308, min=2.2250738585072014e-308, min_exp=-1021, min_10_exp=-307, dig=15, mant_dig=53, epsilon=2.220446049250313e-16, radix=2, rounds=1)\n",
            "Minimum Representable Float: -1.7976931348623157e+308\n",
            "Maximum Representable Float: 1.7976931348623157e+308\n",
            "Number Closest to 0: 5e-324\n",
            "Number 1: 1.0\n",
            "Number 2: 1.0\n",
            "Are numbers equal? Yes\n"
          ]
        }
      ],
      "source": [
        "import sys\n",
        "print(sys.float_info)\n",
        "import numpy as np\n",
        "\n",
        "\n",
        "# Find the minimum and maximum representable floating-point numbers\n",
        "min_float = np.finfo(float).min\n",
        "max_float = np.finfo(float).max\n",
        "\n",
        "# Find the number closest to 0\n",
        "closest_to_zero = np.nextafter(0, 1)\n",
        "\n",
        "# Decode the number closest to 0 into base 10\n",
        "closest_to_zero_base10 = float(closest_to_zero)\n",
        "\n",
        "# Show that two numbers apart less than machine epsilon are the same\n",
        "num1 = 1.0\n",
        "num2 = num1 + np.spacing(num1)*0.1\n",
        "\n",
        "# Display results\n",
        "print(f\"Minimum Representable Float: {min_float}\")\n",
        "print(f\"Maximum Representable Float: {max_float}\")\n",
        "print(f\"Number Closest to 0: {closest_to_zero}\")\n",
        "print(f\"Number 1: {num1}\")\n",
        "print(f\"Number 2: {num2}\")\n",
        "\n",
        "# Check if the two numbers are the same within machine epsilon\n",
        "are_equal = (num1 == num2)\n",
        "print(f\"Are numbers equal? {'Yes' if are_equal else 'No'}\")\n"
      ]
    },
    {
      "cell_type": "markdown",
      "source": [
        "## Explanation of Round-off Errors\n",
        "\n",
        "Round-off errors occur in numerical computations when a value is approximated or rounded to a certain precision, leading to a discrepancy between the rounded value and the true value. These errors are particularly relevant when dealing with floating-point arithmetic.\n",
        "\n",
        "#### Causes of Round-off Errors:\n",
        "\n",
        "1. **Limited Precision:** Computers use finite precision to represent real numbers. As a result, certain real numbers cannot be precisely represented in a computer's memory.\n",
        "\n",
        "2. **Rounding Operations:** When a calculation involves rounding, the result may deviate from the exact mathematical value, introducing a round-off error.\n",
        "\n",
        "#### Mitigating Round-off Errors:\n",
        "\n",
        "1. **Precision Management:** Use higher precision data types when necessary to reduce the impact of limited precision.\n",
        "\n",
        "2. **Careful Rounding:** Be mindful of rounding operations and their effects on subsequent calculations.\n",
        "\n",
        "3. **Numerical Stability:** Choose algorithms and methods that are numerically stable to minimize error accumulation."
      ],
      "metadata": {
        "id": "S2gbkxfY1A3e"
      }
    },
    {
      "cell_type": "code",
      "source": [
        "# Demonstrate round-off error with decimals that go on forever\n",
        "decimal1 = 1/3\n",
        "decimal2 = 2/7\n",
        "\n",
        "# Display the exact decimal values\n",
        "print(f\"Exact Decimal 1: {decimal1}.....\")\n",
        "print(f\"Exact Decimal 2: {decimal2}.....\")\n",
        "\n",
        "# Convert the decimals to binary for demonstration purposes\n",
        "binary1 = format(decimal1, '.32f')\n",
        "binary2 = format(decimal2, '.32f')\n",
        "\n",
        "# Display the binary representations\n",
        "print(f\"Binary Representation of Decimal 1: {binary1}\")\n",
        "print(f\"Binary Representation of Decimal 2: {binary2}\")\n",
        "\n",
        "# Demonstrate round-off error with addition\n",
        "num1 = 0.1\n",
        "num2 = 0.2\n",
        "\n",
        "# Perform the addition\n",
        "result = num1 + num2\n",
        "\n",
        "# Display the exact result and the result with round-off error\n",
        "print(f\"\\nExact Result of Addition: {num1} + {num2} = 0.3\")\n",
        "print(f\"Result of Addition with Round-off Error: {num1} + {num2} = {result}\")"
      ],
      "metadata": {
        "colab": {
          "base_uri": "https://localhost:8080/"
        },
        "id": "GCTDgeLG6D9Y",
        "outputId": "c5c1f710-60ba-443d-bc48-c60935cdd9d9"
      },
      "execution_count": 17,
      "outputs": [
        {
          "output_type": "stream",
          "name": "stdout",
          "text": [
            "Exact Decimal 1: 0.3333333333333333.....\n",
            "Exact Decimal 2: 0.2857142857142857.....\n",
            "Binary Representation of Decimal 1: 0.33333333333333331482961625624739\n",
            "Binary Representation of Decimal 2: 0.28571428571428569842538536249776\n",
            "\n",
            "Exact Result of Addition: 0.1 + 0.2 = 0.3\n",
            "Result of Addition with Round-off Error: 0.1 + 0.2 = 0.30000000000000004\n"
          ]
        }
      ]
    }
  ]
}
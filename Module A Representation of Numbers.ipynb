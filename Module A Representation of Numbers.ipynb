{
  "nbformat": 4,
  "nbformat_minor": 0,
  "metadata": {
    "colab": {
      "provenance": [],
      "authorship_tag": "ABX9TyMtHqnWSMxj4BCElyKjZ/nR",
      "include_colab_link": true
    },
    "kernelspec": {
      "name": "python3",
      "display_name": "Python 3"
    },
    "language_info": {
      "name": "python"
    }
  },
  "cells": [
    {
      "cell_type": "markdown",
      "metadata": {
        "id": "view-in-github",
        "colab_type": "text"
      },
      "source": [
        "<a href=\"https://colab.research.google.com/github/vkumar61/MAT421/blob/main/Module%20A%20Representation%20of%20Numbers.ipynb\" target=\"_parent\"><img src=\"https://colab.research.google.com/assets/colab-badge.svg\" alt=\"Open In Colab\"/></a>"
      ]
    },
    {
      "cell_type": "markdown",
      "source": [
        "## Explanation of Base-N Numbers\n",
        "\n",
        "The concept of Base-N numbers refers to a positional numeral system with a base of $N$. The base represents the number of unique digits or symbols used to express numerical values in that system. Each digit in a Base-N represents a coefficient for a power of $N$. The value of the exponent, for each respective digit, is given by the position of the digit from the right, with \"0\" indexing.  \n",
        "\n",
        "The Base-N number, with k+1 digits, $B_N = d_kd_{k-1}...d_2d_1d_0$ represents:\n",
        "\n",
        "$$ B_N = d_0 \\times N^0 + d_1 \\times N^1 + d_2 \\times N^2 + \\ldots + d_k \\times N^k $$\n",
        "\n",
        "An interesting fact about Base-N numbers is that addition and multiplication with any base is well defined. Common Base-N types include: Binary(Base-2), Decimal(Base-10), and Hexadecimal(Base-16).\n",
        "\n",
        "### Binary\n",
        "\n",
        "Binary, as mentioned above, refers to Base-2 numbers.\n",
        "\n",
        "A Binary (Base-2) number, with \\(k+1\\) digits, $B_2 = d_kd_{k-1}...d_2d_1d_0$, represents:\n",
        "\n",
        "$$ B_2 = d_0 \\times 2^0 + d_1 \\times 2^1 + d_2 \\times 2^2 + \\ldots + d_k \\times 2^k $$\n"
      ],
      "metadata": {
        "id": "r0Qm0DLkvbIS"
      }
    },
    {
      "cell_type": "code",
      "source": [
        "import numpy as np\n"
      ],
      "metadata": {
        "id": "H23jeA3r102C"
      },
      "execution_count": null,
      "outputs": []
    },
    {
      "cell_type": "markdown",
      "source": [
        "## Explanation of Floating-Point Numbers\n",
        "\n",
        "Floating-point numbers are a representation of real numbers in computing, allowing for the representation of a wide range of values, including both integers and fractions. The term \"floating-point\" refers to the fact that the decimal (or binary) point can \"float\"; that is, it can support a variable number of digits before and after the decimal point.\n",
        "\n",
        "#### Characteristics of Floating-Point Numbers:\n",
        "\n",
        "1. **Precision:** Floating-point numbers have finite precision, meaning there is a limit to the number of significant digits they can represent. This limitation can lead to round-off errors in calculations.\n",
        "\n",
        "2. **Representation:** In the IEEE 754 standard, a floating-point number is represented as a sign bit, an exponent, and a fractional part (mantissa). This allows the representation of very large or very small numbers.\n",
        "\n",
        "3. **Notation:** Floating-point numbers are often expressed in scientific notation, where a number is represented as a product of a significand (or mantissa) and a power of 2 (exponent).\n",
        "\n",
        "#### Operations with Floating-Point Numbers:\n",
        "\n",
        "Floating-point arithmetic includes addition, subtraction, multiplication, and division. However, due to finite precision, certain operations may result in loss of precision and round-off errors."
      ],
      "metadata": {
        "id": "hygRFjGL12Z3"
      }
    },
    {
      "cell_type": "code",
      "execution_count": 1,
      "metadata": {
        "id": "uH4KhpSfezzB",
        "colab": {
          "base_uri": "https://localhost:8080/"
        },
        "outputId": "fc152311-bd59-45fa-fe43-f90b5383d486"
      },
      "outputs": [
        {
          "output_type": "execute_result",
          "data": {
            "text/plain": [
              "sys.float_info(max=1.7976931348623157e+308, max_exp=1024, max_10_exp=308, min=2.2250738585072014e-308, min_exp=-1021, min_10_exp=-307, dig=15, mant_dig=53, epsilon=2.220446049250313e-16, radix=2, rounds=1)"
            ]
          },
          "metadata": {},
          "execution_count": 1
        }
      ],
      "source": [
        "import sys\n",
        "sys.float_info"
      ]
    },
    {
      "cell_type": "markdown",
      "source": [
        "## Explanation of Round-off Errors\n",
        "\n",
        "Round-off errors occur in numerical computations when a value is approximated or rounded to a certain precision, leading to a discrepancy between the rounded value and the true value. These errors are particularly relevant when dealing with floating-point arithmetic.\n",
        "\n",
        "#### Causes of Round-off Errors:\n",
        "\n",
        "1. **Limited Precision:** Computers use finite precision to represent real numbers. As a result, certain real numbers cannot be precisely represented in a computer's memory.\n",
        "\n",
        "2. **Rounding Operations:** When a calculation involves rounding, the result may deviate from the exact mathematical value, introducing a round-off error.\n",
        "\n",
        "#### Mitigating Round-off Errors:\n",
        "\n",
        "1. **Precision Management:** Use higher precision data types when necessary to reduce the impact of limited precision.\n",
        "\n",
        "2. **Careful Rounding:** Be mindful of rounding operations and their effects on subsequent calculations.\n",
        "\n",
        "3. **Numerical Stability:** Choose algorithms and methods that are numerically stable to minimize error accumulation."
      ],
      "metadata": {
        "id": "S2gbkxfY1A3e"
      }
    },
    {
      "cell_type": "code",
      "source": [],
      "metadata": {
        "id": "JMwe8Gtn2V5H"
      },
      "execution_count": null,
      "outputs": []
    }
  ]
}
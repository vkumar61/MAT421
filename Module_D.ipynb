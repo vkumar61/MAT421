{
  "nbformat": 4,
  "nbformat_minor": 0,
  "metadata": {
    "colab": {
      "provenance": [],
      "authorship_tag": "ABX9TyMuaHaibdw0E1zkU0bs3+uX",
      "include_colab_link": true
    },
    "kernelspec": {
      "name": "python3",
      "display_name": "Python 3"
    },
    "language_info": {
      "name": "python"
    }
  },
  "cells": [
    {
      "cell_type": "markdown",
      "metadata": {
        "id": "view-in-github",
        "colab_type": "text"
      },
      "source": [
        "<a href=\"https://colab.research.google.com/github/vkumar61/MAT421/blob/main/Module_D.ipynb\" target=\"_parent\"><img src=\"https://colab.research.google.com/assets/colab-badge.svg\" alt=\"Open In Colab\"/></a>"
      ]
    },
    {
      "cell_type": "markdown",
      "source": [
        "Admittedly, this was a much longer module than the previous ones, and because of this, I think it would be best, keeping with the philosophical goals of the class, to consider the theoretical section only as a general overview and focus more on the code and actually utilizing some of the methods discussed. Because of this, I will avoid definitions and proofs as I believe this section would be best explained with a few paragraphs summarizing the most important concepts to computational methods and focusing on implementing a few. If you find this unsatisfactory, please let me know for future reference. Also I should say, being a Math and Physics major, having taken MAT442, and pursuing research in Math Modeling my understanding of these concepts is heavily influenced by experinces befor this weeks module. For the code sections, partially because using numpy.linalg wouldn't demonstarte mastery, I will implement my own code for the methods and compare to numpy.\n",
        "\n",
        "\n",
        "### Overview\n",
        "As a branch of mathematics, linear algebra is a fundamental framework with broad applicability, notably in fields such as data science and machine learning. Through concepts like vector spaces, orthogonality, and eigenvalues, it plays two vital roles: 1) It provides a convenient framework for many deterministic modeling methods such as regression and PCA, as well as many statistical ones such as Monte Carlo or Markov Methods. In fact, I would take it a step further and say that anytime you are working in multiple dimensions, writing your problem in a some linear algebra framework should be the primary consideration.\n",
        "\n",
        "### 1. Linear Space (Vector Space)\n",
        "\n",
        "A linear space, also known as a vector space, is a fundamental mathematical structure used to formalize the concept of vectors and operations on them.\n",
        "\n",
        "**Definition**: A vector space $ V $ over a field $ F $ (often the real numbers $ \\mathbb{R} $ or complex numbers $ \\mathbb{C} $) is a set equipped with two operations:\n",
        "\n",
        "1. **Vector Addition**: For any two vectors $ \\mathbf{u} $ and $ \\mathbf{v} $ in $ V $, there exists another vector $ \\mathbf{u} + \\mathbf{v} $ in $ V $ called their sum.\n",
        "2. **Scalar Multiplication**: For any vector $ \\mathbf{u} $ in $ V $ and any scalar $ \\alpha $ in $ F $, there exists another vector $ \\alpha \\mathbf{u} $ in $ V $ called the scalar multiple of $ \\mathbf{u} $ by $ \\alpha $.\n",
        "\n",
        "These operations must satisfy certain properties, namely closure, associativity, commutativity, existence of additive and multiplicative identities, and distributivity of scalar multiplication over vector addition.\n",
        "\n",
        "Additionally, vector spaces can have various properties such as dimensionality, basis, and subspaces, all of which have there own\n",
        "\n",
        "Vector spaces and vectors go hand in hand, and an important prperty od vectors is linear independence. It is best decribedas: no vector in the givn set can be expressed as a linear combination of the others, indicating a unique directionality within the set. Understanding linear independence is crucial for defining bases, determining dimensionality, and analyzing the structural properties of vector spaces.\n",
        "\n",
        "In this vain, I write a code below that determines wether a set of vectors is linearly independent, I do this by setting them in a matric and determineing the rank. Admittedly, for computers, this should only be applied to integer vectors. I say this because, the finite precision of numbers in computers means that any algorithm used to determine the rank of the matrix is prone to rounding errors, which can very easily lead to incorrct results."
      ],
      "metadata": {
        "id": "bpm4-iEvMx3c"
      }
    },
    {
      "cell_type": "code",
      "source": [
        "import numpy as np\n",
        "\n",
        "def is_linearly_independent(vectors):\n",
        "    num_vectors = len(vectors)\n",
        "    num_elements = len(vectors[0])\n",
        "\n",
        "    augmented_matrix = [v + [0 if i != j else 1 for j in range(num_vectors)] for i, v in enumerate(vectors)]\n",
        "\n",
        "    for col in range(num_elements):\n",
        "        for row in range(col + 1, num_vectors):\n",
        "            if augmented_matrix[col][col] == 0:\n",
        "                return False\n",
        "            factor = augmented_matrix[row][col] / augmented_matrix[col][col]\n",
        "            for k in range(col, num_elements + num_vectors):\n",
        "                augmented_matrix[row][k] -= factor * augmented_matrix[col][k]\n",
        "\n",
        "    for i in range(num_vectors):\n",
        "        if augmented_matrix[i][i] == 0:\n",
        "            return False\n",
        "\n",
        "    return True\n",
        "\n",
        "# Example matrices\n",
        "matrix1 = [[1, 2, 3, 4, 5, 79],\n",
        "           [6, 7, 8, 9, 10, 12],\n",
        "           [11, 1, 13, 14, 15, 123],\n",
        "           [16, 17, 1, 19, 20, 186],\n",
        "           [21, 2, 23, 24, 5, 167],\n",
        "           [26, 7, 28, 29, 30, 456]]\n",
        "\n",
        "matrix2 = [[1, 2, 3, 4, 5],\n",
        "           [2, 4, 6, 8, 10],\n",
        "           [3, 6, 9, 12, 15],\n",
        "           [4, 8, 12, 16, 20],\n",
        "           [5, 10, 15, 20, 25],\n",
        "           [6, 12, 18, 24, 30]]\n",
        "\n",
        "# Comparison using NumPy\n",
        "np_matrix1 = np.array(matrix1)\n",
        "np_matrix2 = np.array(matrix2)\n",
        "\n",
        "np_result1 = np.linalg.matrix_rank(np_matrix1) == len(np_matrix1)\n",
        "np_result2 = np.linalg.matrix_rank(np_matrix2) == len(np_matrix2)\n",
        "\n",
        "print(\"Example 1:\")\n",
        "print(\"Are vectors linearly independent (without numpy)?\", is_linearly_independent(matrix1))\n",
        "print(\"Are vectors linearly independent (with numpy)?\", np_result1)\n",
        "\n",
        "print(\"\\nExample 2:\")\n",
        "print(\"Are vectors linearly independent (without numpy)?\", is_linearly_independent(matrix2))\n",
        "print(\"Are vectors linearly independent (with numpy)?\", np_result2)"
      ],
      "metadata": {
        "colab": {
          "base_uri": "https://localhost:8080/"
        },
        "id": "RNBd1EW1b7T_",
        "outputId": "529d424d-c930-4a61-aff9-779969f8b2b6"
      },
      "execution_count": 1,
      "outputs": [
        {
          "output_type": "stream",
          "name": "stdout",
          "text": [
            "Example 1:\n",
            "Are vectors linearly independent (without numpy)? True\n",
            "Are vectors linearly independent (with numpy)? True\n",
            "\n",
            "Example 2:\n",
            "Are vectors linearly independent (without numpy)? False\n",
            "Are vectors linearly independent (with numpy)? False\n"
          ]
        }
      ]
    },
    {
      "cell_type": "markdown",
      "source": [
        "### 2. Orthogonality\n",
        "\n",
        "Orthogonality is a key concept in linear algebra, particularly in the context of inner product spaces. In Euclidean spaces, orthogonality captures the notion of perpendicularity, but is generally a much broader concept.\n",
        "\n",
        "**Definition (Inner Product Space)**: An inner product space is a vector space $ V $ over the field of real or complex numbers equipped with an inner product, denoted $ \\langle \\cdot, \\cdot \\rangle $, that satisfies linearity in the first argument, conjugate symmetry, and positive-definiteness.\n",
        "\n",
        "**Definition (Orthogonal Vectors)**: Two vectors $ \\mathbf{u} $ and $ \\mathbf{v} $ in an inner product space $ V $ are said to be orthogonal if their inner product is zero, i.e., $ \\langle \\mathbf{u}, \\mathbf{v} \\rangle = 0 $.\n",
        "\n",
        "In Euclidean spaces, such as $ \\mathbb{R}^n $ equipped with the standard dot product, two vectors are orthogonal if and only if their dot product is zero, indicating that they are perpendicular in the geometric sense.\n",
        "\n",
        "Thus one can imagine that given a set of linearly independent vectors, being able to construct an orthogonal set that spans the same vectorspace would be very useful. A very popular algorithm for this is called Gram-Schmidt Orthoganalization. Now this should work for all linearly independent input vectors, though the final answers are only accurate wthin finite numerical precision, hence having to check by isclose to 0 no ==0. I implement all this below:"
      ],
      "metadata": {
        "id": "ZVYTIQm4Mx_U"
      }
    },
    {
      "cell_type": "code",
      "execution_count": 2,
      "metadata": {
        "colab": {
          "base_uri": "https://localhost:8080/"
        },
        "id": "eMbCZIVmMmo6",
        "outputId": "d5b16ff3-0742-4239-e90c-46908b155941"
      },
      "outputs": [
        {
          "output_type": "stream",
          "name": "stdout",
          "text": [
            "Are the resulting vectors orthogonal? True\n"
          ]
        }
      ],
      "source": [
        "def gram(vectors):\n",
        "    num_vectors = len(vectors)\n",
        "    ortho_basis = np.zeros_like(vectors, dtype=float)\n",
        "\n",
        "    for i in range(num_vectors):\n",
        "        v = np.array(vectors[i])\n",
        "        for j in range(i):\n",
        "            proj = np.dot(v, ortho_basis[j]) / np.dot(ortho_basis[j], ortho_basis[j]) * ortho_basis[j]\n",
        "            v = v - proj\n",
        "        ortho_basis[i] = v\n",
        "\n",
        "    return ortho_basis\n",
        "\n",
        "vectors = np.array([[1, 0, 1],\n",
        "                     [1, 1, 0],\n",
        "                     [0, 1, 1]])\n",
        "\n",
        "# Perform Gram schmidt process\n",
        "orthogonal_basis_gs = gram(vectors)\n",
        "\n",
        "# Check orthogonality by computing inner products and verifying all are close to 0 with numpy\n",
        "is_orthogonal = True\n",
        "for i in range(len(orthogonal_basis_gs)):\n",
        "    for j in range(i + 1, len(orthogonal_basis_gs)):\n",
        "        inner_product = np.dot(orthogonal_basis_gs[i], orthogonal_basis_gs[j])\n",
        "        if not np.isclose(inner_product, 0.0, atol=1e-8):\n",
        "            is_orthogonal = False\n",
        "            break\n",
        "\n",
        "print(\"Are the resulting vectors orthogonal?\", is_orthogonal)"
      ]
    },
    {
      "cell_type": "markdown",
      "source": [
        "### 3. Eigenvalues and Eigenvectors\n",
        "\n",
        "Eigenvalues and eigenvectors are concepts primarily associated with linear transformations (or operators) and matrices.\n",
        "\n",
        "**Definition (Eigenvalues and Eigenvectors)**: Let $ A $ be an $ n \\times n $ matrix. A scalar $ \\lambda $ is called an eigenvalue of $ A $ if there exists a nonzero vector $ \\mathbf{v} $ (the eigenvector) such that $ A\\mathbf{v} = \\lambda\\mathbf{v} $.\n",
        "\n",
        "**Eigenvalue Equation**: The equation $ \\det(A - \\lambda I) = 0 $ is called the characteristic equation of $ A $, where $ I $ is the identity matrix.\n",
        "\n",
        "**Properties**:\n",
        "- Eigenvectors corresponding to distinct eigenvalues are linearly independent.\n",
        "- The sum of the eigenvalues equals the trace of the matrix, and the product of the eigenvalues equals the determinant of the matrix.\n",
        "\n",
        "We implement QR decomp to find eiganvalues and compare to numpy. I do not compare eigenvectors as they can be any vector in the respective eigenspace. This is also a very unstable task, precisely why I do not try to reconstruct the initial matrix vian the linear combination mentioned above."
      ],
      "metadata": {
        "id": "lw2RJiengjT-"
      }
    },
    {
      "cell_type": "code",
      "source": [
        "def qr_decomposition(A):\n",
        "    m, n = A.shape\n",
        "    Q = np.zeros((m, m))\n",
        "    R = np.zeros((m, n))\n",
        "    V = np.copy(A)\n",
        "\n",
        "    for i in range(m):\n",
        "        R[i, i] = np.linalg.norm(V[:, i])\n",
        "        Q[:, i] = V[:, i] / R[i, i]\n",
        "        for j in range(i + 1, n):\n",
        "            R[i, j] = Q[:, i] @ V[:, j]\n",
        "            V[:, j] = V[:, j] - R[i, j] * Q[:, i]\n",
        "\n",
        "    return Q, R\n",
        "\n",
        "def qr_eigen(matrix, num_iterations=1000, tolerance=1e-6):\n",
        "    n = matrix.shape[0]\n",
        "    eigenvalues = np.zeros(n)\n",
        "    eigenvectors = np.eye(n)\n",
        "\n",
        "    for _ in range(num_iterations):\n",
        "        q, r = qr_decomposition(matrix)\n",
        "        matrix = r @ q\n",
        "        eigenvectors = eigenvectors @ q\n",
        "\n",
        "        # Check for convergence\n",
        "        if np.max(np.abs(np.tril(matrix, -1))) < tolerance:\n",
        "            break\n",
        "\n",
        "    for i in range(n):\n",
        "        eigenvalues[i] = matrix[i, i]\n",
        "\n",
        "    return eigenvalues, eigenvectors\n",
        "\n",
        "def reorder_eigenvalues_and_vectors(eigenvalues, eigenvectors):\n",
        "    sorted_indices = np.argsort(eigenvalues)\n",
        "    sorted_eigenvalues = eigenvalues[sorted_indices]\n",
        "    sorted_eigenvectors = eigenvectors[:, sorted_indices]\n",
        "    return sorted_eigenvalues, sorted_eigenvectors\n",
        "\n",
        "matrix = np.array([[1, 0, 9],\n",
        "                   [0, 2, 9],\n",
        "                   [0, 1, 3]])\n",
        "\n",
        "# Compute eigenvalues and eigenvectors using custom qr-based method\n",
        "eigenvalues_custom, eigenvectors_custom = qr_eigen(matrix)\n",
        "\n",
        "# Compute eigenvalues and eigenvectors using NumPy's linalg.eig function\n",
        "eigenvalues_numpy, eigenvectors_numpy = np.linalg.eig(matrix)\n",
        "\n",
        "# Reorder eigenvakues and eigenvectors\n",
        "sorted_eigenvalues_custom, sorted_eigenvectors_custom = reorder_eigenvalues_and_vectors(eigenvalues_custom, eigenvectors_custom)\n",
        "sorted_eigenvalues_numpy, sorted_eigenvectors_numpy = reorder_eigenvalues_and_vectors(eigenvalues_numpy, eigenvectors_numpy)\n",
        "\n",
        "# Compare eigenval\\ues\n",
        "print(\"Eigenvalues comparison:\")\n",
        "print(\"Custom QR method:\", sorted_eigenvalues_custom)\n",
        "print(\"NumPy linalg.eig:\", sorted_eigenvalues_numpy)"
      ],
      "metadata": {
        "colab": {
          "base_uri": "https://localhost:8080/"
        },
        "id": "SDTENpOvgdlO",
        "outputId": "a3a5a5c5-8619-4cbc-9829-96dd121acb68"
      },
      "execution_count": 3,
      "outputs": [
        {
          "output_type": "stream",
          "name": "stdout",
          "text": [
            "Eigenvalues comparison:\n",
            "Custom QR method: [-0.35972903  1.          5.55972903]\n",
            "NumPy linalg.eig: [-0.54138127  1.          5.54138127]\n"
          ]
        }
      ]
    },
    {
      "cell_type": "markdown",
      "source": [
        "### 4. Regression\n",
        "\n",
        "For any linear regression problem. I have a set of inputs paired with an output, and I am trying to come up with some linear combination of the inputs  that closely predicts the respective outputs. Generally speaking it can be any function of any of the respective inputs, a generalized linear model, but we will stick with the simple linear regression as mentioned in the text. This can be written as:\n",
        "\n",
        "$$y_i \\approx \\sum_{j=1}^N \\beta_jx_j$$\n",
        "\n",
        "$y_i$ represents the output for the $i$th sample or data point, $\\beta_j$ represents the coefficients corresponding to each input $x_j$, and $x_j$ represents the value of the $j$th feature for the $i$th sample.\n",
        "\n",
        "Now, let's rewrite this equation in matrix form.\n",
        "\n",
        "First, let's represent the inputs for all samples as a matrix $X$ where each row corresponds to a sample and each column corresponds to a feature. Let's assume we have $M$ samples and $N$ features. So, $X$ will have dimensions $M \\times N$.\n",
        "\n",
        "Similarly, let's represent the outputs for all samples as a column vector $y$ with dimensions $M \\times 1$.\n",
        "\n",
        "Next, let's represent the coefficients as a column vector $\\beta$ with dimensions $N \\times 1$.\n",
        "\n",
        "With these representations, our equation can be written in matrix form as:\n",
        "\n",
        "\n",
        "$$y \\approx X\\beta$$\n",
        "\n",
        "Here, $X\\beta$ represents the matrix multiplication of $X$ and $\\beta$, resulting in a column vector with dimensions $M \\times 1$, which matches the dimensions of $y$.\n",
        "\n",
        "Now it is upon us to find the ideal $\\beta$. One metric for how close the predictions are is least squares method, which aims to minimize the sum of the squared differences between the actual outputs and the predicted outputs. Mathematically, we want to minimize the following objective function:\n",
        "\n",
        "$$\\text{minimize} \\sum_{i=1}^M (y_i - \\hat{y}_i)^2$$\n",
        "\n",
        "where $y_i$ is the actual output for the $i$th sample, and $\\hat{y}_i$ is the predicted output.\n",
        "\n",
        "Recall that our predicted outputs $\\hat{y}$ are given by $X\\beta$. Therefore, we want to minimize:\n",
        "\n",
        "$$\\sum_{i=1}^M (y_i - X_i\\beta)^2$$\n",
        "\n",
        "Expanding this, we get:\n",
        "\n",
        "$$\\sum_{i=1}^M (y_i^2 - 2y_i(X_i\\beta) + (X_i\\beta)^2)$$\n",
        "\n",
        "Now, we want to minimize this expression with respect to $\\beta$. To find the optimal $\\beta$, we take the derivative of this expression with respect to $\\beta$, set it equal to zero, and solve for $\\beta$.\n",
        "\n",
        "$$\\frac{\\partial}{\\partial \\beta} \\left( \\sum_{i=1}^M (y_i^2 - 2y_i(X_i\\beta) + (X_i\\beta)^2) \\right) = 0$$\n",
        "\n",
        "$$\\sum_{i=1}^M \\left( -2y_iX_i + 2(X_i\\beta)X_i \\right) = 0$$\n",
        "\n",
        "$$\\sum_{i=1}^M \\left( X_i^T X_i\\beta - X_i^Ty_i \\right) = 0$$\n",
        "\n",
        "Now, we can rearrange terms and factor out $\\beta$:\n",
        "\n",
        "$$\\sum_{i=1}^M X_i^T X_i\\beta - \\sum_{i=1}^M X_i^Ty_i = 0$$\n",
        "\n",
        "$$X^TX\\beta - X^Ty = 0$$\n",
        "\n",
        "Adding $X^Ty$ to both sides and rearranging, we get:\n",
        "\n",
        "$$X^TX\\beta = X^Ty$$\n",
        "\n",
        "Finally, to solve for $\\beta$, we multiply both sides by the inverse of $X^TX$:\n",
        "\n",
        "$$\\beta = (X^TX)^{-1}X^Ty$$\n",
        "\n",
        "This equation is known as the normal equation in linear regression, and it gives us the optimal values of $\\beta$ that minimize the sum of squared errors. Below we implement this in python:"
      ],
      "metadata": {
        "id": "v1gkXgt0wSHd"
      }
    },
    {
      "cell_type": "code",
      "source": [
        "import matplotlib.pyplot as plt\n",
        "\n",
        "def normal_eq(X, y):\n",
        "    X_wi = np.c_[np.ones(X.shape[0]), X]\n",
        "    XTX = np.dot(X_wi.T, X_wi)\n",
        "    XTy = np.dot(X_wi.T, y)\n",
        "    beta = np.dot(np.linalg.inv(XTX), XTy)\n",
        "    return beta\n",
        "\n",
        "np.random.seed(42)\n",
        "n = 50\n",
        "X = np.random.rand(n, 1)\n",
        "noise = np.random.normal(0, 1, (n, 1))\n",
        "y = 3 * X + 2 + noise\n",
        "\n",
        "b = normal_eq(X, y)\n",
        "\n",
        "plt.scatter(X, y, label='Data')\n",
        "plt.plot(X, 3*X + 2, color='red', label='Ground Truth')\n",
        "plt.plot(X, np.dot(np.c_[np.ones(X.shape[0]), X], b), color='green', label='Inferred')\n",
        "plt.xlabel('X')\n",
        "plt.ylabel('y')\n",
        "plt.title('Ground Truth vs Inferred Line')\n",
        "plt.legend()\n",
        "plt.show()"
      ],
      "metadata": {
        "colab": {
          "base_uri": "https://localhost:8080/",
          "height": 472
        },
        "id": "EnhEePUZfdvE",
        "outputId": "7cd6e794-bbaa-4471-b452-5c94db727c69"
      },
      "execution_count": 4,
      "outputs": [
        {
          "output_type": "display_data",
          "data": {
            "text/plain": [
              "<Figure size 640x480 with 1 Axes>"
            ],
            "image/png": "[encoded data removed]"
          },
          "metadata": {}
        }
      ]
    },
    {
      "cell_type": "markdown",
      "source": [
        "### Principal Component Analysis\n",
        "\n",
        "PCA is a technique used to transform a dataset by finding a new set of orthogonal basis vectors, called principal components, that capture the maximum variance in the data. These principal components are determined by computing the eigenvectors of the covariance matrix of the dataset.\n",
        "\n",
        "It is best expland with in a few steps:\n",
        "\n",
        "1. **Standardization**\n",
        "2. **Covariance Matrix**\n",
        "3. **Eigendecomposition**\n",
        "4. **Selection of Principal Components**\n",
        "5. **Dimensionality Reduction**\n",
        "\n",
        "We implement this below:"
      ],
      "metadata": {
        "id": "81db-wBJ3hqr"
      }
    },
    {
      "cell_type": "code",
      "source": [
        "def pca(X, n_comp):\n",
        "    X_s = (X - np.mean(X, axis=0)) / np.std(X, axis=0)\n",
        "    cov = np.cov(X_s, rowvar=False)\n",
        "    e_val, e_vec = np.linalg.eig(cov)\n",
        "    s_ind = np.argsort(e_val)[::-1]\n",
        "    s_e_vec = e_vec[:, s_ind]\n",
        "    sel_e_vec = s_e_vec[:, :n_comp]\n",
        "    proj_data = np.dot(X_s, sel_e_vec)\n",
        "    return proj_data\n",
        "\n",
        "np.random.seed(42)\n",
        "X = np.random.rand(100, 5)\n",
        "\n",
        "proj_data_custom = pca(X, n_comp=2)\n",
        "print(\"Projected data shape:\", proj_data_custom.shape)\n",
        "print(\"First few rows of projected data:\\n\", proj_data_custom[:5])"
      ],
      "metadata": {
        "colab": {
          "base_uri": "https://localhost:8080/"
        },
        "id": "vsYYtNReoSdx",
        "outputId": "6b463080-49ff-433a-9cbc-94962f5c7669"
      },
      "execution_count": 5,
      "outputs": [
        {
          "output_type": "stream",
          "name": "stdout",
          "text": [
            "Projected data shape: (100, 2)\n",
            "First few rows of projected data:\n",
            " [[-1.48584759  0.10517099]\n",
            " [-0.09087782  1.46554212]\n",
            " [-2.80234709  0.29750159]\n",
            " [-0.54966191  0.02257206]\n",
            " [ 0.84682029 -0.75997465]]\n"
          ]
        }
      ]
    }
  ]
}